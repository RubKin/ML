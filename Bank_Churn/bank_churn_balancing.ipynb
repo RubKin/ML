{
 "cells": [
  {
   "cell_type": "code",
   "execution_count": 1,
   "metadata": {},
   "outputs": [],
   "source": [
    "import pandas as pd\n",
    "import numpy as np\n",
    "import matplotlib.pyplot as plt\n",
    "import seaborn as sns\n",
    "\n",
    "from imblearn.combine import SMOTEENN, SMOTETomek\n",
    "from imblearn.over_sampling import SMOTE, ADASYN\n",
    "\n",
    "\n",
    "from sklearn.model_selection import train_test_split\n",
    "from sklearn.preprocessing import StandardScaler\n",
    "from sklearn.decomposition import IncrementalPCA\n",
    "from sklearn.metrics import classification_report, accuracy_score, confusion_matrix, plot_confusion_matrix, precision_score, recall_score, f1_score\n",
    "\n",
    "from sklearn.linear_model import LogisticRegression\n",
    "from sklearn import svm\n",
    "from sklearn.neighbors import KNeighborsClassifier\n",
    "\n",
    "from sklearn.model_selection import GridSearchCV\n",
    "from sklearn.tree import DecisionTreeClassifier\n",
    "from sklearn.ensemble import RandomForestClassifier, GradientBoostingClassifier\n",
    "import xgboost as xgb#\n",
    "\n",
    "import pickle\n",
    "import joblib\n",
    "\n",
    "plt.rcParams['figure.figsize'] = (14, 12)\n",
    "\n",
    "\n",
    "import warnings\n",
    "warnings.filterwarnings(\"ignore\")\n"
   ]
  },
  {
   "cell_type": "code",
   "execution_count": 2,
   "metadata": {},
   "outputs": [],
   "source": [
    "df = pd.read_csv(\"data/chrun_modeling_fe.csv\", index_col=[0])\n",
    "X = df.drop(\"exited\", axis=1)\n",
    "y = df[\"exited\"]"
   ]
  },
  {
   "cell_type": "code",
   "execution_count": 3,
   "metadata": {},
   "outputs": [],
   "source": [
    "def create_X_y(data, target):\n",
    "    X = data.drop(target, axis=1)\n",
    "    y = data[target]\n",
    "    return X, y\n",
    "\n",
    "def scale(scaler, X_train, X_test):\n",
    "    scaler = scaler()\n",
    "    X_train = scaler.fit_transform(X_train)\n",
    "    X_test = scaler.transform(X_test)\n",
    "    return X_train, X_test\n",
    "    \n",
    "def train_test(data, target, test_size, scaler):\n",
    "    #Separate between Features and Target\n",
    "    X, y = create_X_y(data, target)\n",
    "    X_train, X_test, y_train, y_test = train_test_split(X, y, test_size=test_size, random_state=42, shuffle=True)\n",
    "    #Scale the data\n",
    "    X_train, X_test = scale(scaler, X_train, X_test)\n",
    "    #print the shapes\n",
    "    print(\"Shapes after the split     \", X_train.shape, X_test.shape, y_train.shape, y_test.shape)\n",
    "    return X_train, X_test, y_train, y_test\n",
    "\n",
    "def create_model(model, name,  data, target, test_size, scaler): # model, name, data, target, test_size, scaler\n",
    "    X_train, X_test, y_train, y_test = train_test(data, target, test_size, scaler)\n",
    "    m = model()\n",
    "    m.fit(X_train, y_train)\n",
    "    y_pred = m.predict(X_test)\n",
    "    df = pd.DataFrame(\n",
    "        {\"models\": [name],\n",
    "        \"accuracy\": [accuracy_score(y_test, y_pred)],\n",
    "        \"precision_score\": [precision_score(y_test, y_pred)],\n",
    "        \"f1_score\": [f1_score(y_test, y_pred)],\n",
    "        \"recall_score\": [recall_score(y_test, y_pred)]\n",
    "        })\n",
    "\n",
    "    #print(\"Accuracy Score             \", accuracy_score(y_test, y_pred))\n",
    "    #print(\"Classification Report \\n\", classification_report(y_test, y_pred))\n",
    "\n",
    "    # __, ax = plt.subplots(figsize=(10, 10))\n",
    "    # plot_confusion_matrix(m, X_test, y_test, ax=ax)\n",
    "    # plt.title(f\"{name} Confussion Matrix \", fontdict={\"fontsize\": 15});\n",
    "    return m, df\n",
    "\n"
   ]
  },
  {
   "cell_type": "code",
   "execution_count": 4,
   "metadata": {},
   "outputs": [],
   "source": [
    "models = [LogisticRegression, DecisionTreeClassifier, RandomForestClassifier, KNeighborsClassifier, GradientBoostingClassifier, svm]"
   ]
  },
  {
   "cell_type": "code",
   "execution_count": 5,
   "metadata": {},
   "outputs": [
    {
     "name": "stdout",
     "output_type": "stream",
     "text": [
      "Shapes after the split      (8000, 13) (2000, 13) (8000,) (2000,)\n",
      "Shapes after the split      (8000, 13) (2000, 13) (8000,) (2000,)\n",
      "Shapes after the split      (8000, 13) (2000, 13) (8000,) (2000,)\n",
      "Shapes after the split      (8000, 13) (2000, 13) (8000,) (2000,)\n",
      "Shapes after the split      (8000, 13) (2000, 13) (8000,) (2000,)\n",
      "Shapes after the split      (8000, 13) (2000, 13) (8000,) (2000,)\n"
     ]
    }
   ],
   "source": [
    "model, df_1 = create_model(LogisticRegression, \"Logistic Regression\", df, \"exited\", .2, StandardScaler)\n",
    "model, df_2 = create_model(DecisionTreeClassifier, \"Decision Tree Classifier\", df, \"exited\", .2, StandardScaler)\n",
    "model, df_3 = create_model(RandomForestClassifier, \"Random Forest Classifier\", df, \"exited\", .2, StandardScaler)\n",
    "model, df_4 = create_model(KNeighborsClassifier, \"KNeighborsClassifier\", df, \"exited\", .2, StandardScaler)\n",
    "model, df_5 = create_model(GradientBoostingClassifier, \"GradientBoostingClassifier\", df, \"exited\", .2, StandardScaler)\n",
    "model, df_6 = create_model(svm.SVC, \"svm\", df, \"exited\", .2, StandardScaler)"
   ]
  },
  {
   "cell_type": "code",
   "execution_count": 6,
   "metadata": {},
   "outputs": [
    {
     "data": {
      "text/html": [
       "<div>\n",
       "<style scoped>\n",
       "    .dataframe tbody tr th:only-of-type {\n",
       "        vertical-align: middle;\n",
       "    }\n",
       "\n",
       "    .dataframe tbody tr th {\n",
       "        vertical-align: top;\n",
       "    }\n",
       "\n",
       "    .dataframe thead th {\n",
       "        text-align: right;\n",
       "    }\n",
       "</style>\n",
       "<table border=\"1\" class=\"dataframe\">\n",
       "  <thead>\n",
       "    <tr style=\"text-align: right;\">\n",
       "      <th></th>\n",
       "      <th>models</th>\n",
       "      <th>accuracy</th>\n",
       "      <th>precision_score</th>\n",
       "      <th>f1_score</th>\n",
       "      <th>recall_score</th>\n",
       "    </tr>\n",
       "  </thead>\n",
       "  <tbody>\n",
       "    <tr>\n",
       "      <th>0</th>\n",
       "      <td>Logistic Regression</td>\n",
       "      <td>0.8430</td>\n",
       "      <td>0.690821</td>\n",
       "      <td>0.476667</td>\n",
       "      <td>0.363868</td>\n",
       "    </tr>\n",
       "    <tr>\n",
       "      <th>0</th>\n",
       "      <td>Decision Tree Classifier</td>\n",
       "      <td>0.7795</td>\n",
       "      <td>0.446667</td>\n",
       "      <td>0.476868</td>\n",
       "      <td>0.511450</td>\n",
       "    </tr>\n",
       "    <tr>\n",
       "      <th>0</th>\n",
       "      <td>Random Forest Classifier</td>\n",
       "      <td>0.8665</td>\n",
       "      <td>0.760331</td>\n",
       "      <td>0.579528</td>\n",
       "      <td>0.468193</td>\n",
       "    </tr>\n",
       "    <tr>\n",
       "      <th>0</th>\n",
       "      <td>KNeighborsClassifier</td>\n",
       "      <td>0.8390</td>\n",
       "      <td>0.630037</td>\n",
       "      <td>0.516517</td>\n",
       "      <td>0.437659</td>\n",
       "    </tr>\n",
       "    <tr>\n",
       "      <th>0</th>\n",
       "      <td>GradientBoostingClassifier</td>\n",
       "      <td>0.8650</td>\n",
       "      <td>0.745020</td>\n",
       "      <td>0.580745</td>\n",
       "      <td>0.475827</td>\n",
       "    </tr>\n",
       "    <tr>\n",
       "      <th>0</th>\n",
       "      <td>svm</td>\n",
       "      <td>0.8575</td>\n",
       "      <td>0.775510</td>\n",
       "      <td>0.516129</td>\n",
       "      <td>0.386768</td>\n",
       "    </tr>\n",
       "  </tbody>\n",
       "</table>\n",
       "</div>"
      ],
      "text/plain": [
       "                       models  accuracy  precision_score  f1_score  \\\n",
       "0         Logistic Regression    0.8430         0.690821  0.476667   \n",
       "0    Decision Tree Classifier    0.7795         0.446667  0.476868   \n",
       "0    Random Forest Classifier    0.8665         0.760331  0.579528   \n",
       "0        KNeighborsClassifier    0.8390         0.630037  0.516517   \n",
       "0  GradientBoostingClassifier    0.8650         0.745020  0.580745   \n",
       "0                         svm    0.8575         0.775510  0.516129   \n",
       "\n",
       "   recall_score  \n",
       "0      0.363868  \n",
       "0      0.511450  \n",
       "0      0.468193  \n",
       "0      0.437659  \n",
       "0      0.475827  \n",
       "0      0.386768  "
      ]
     },
     "execution_count": 6,
     "metadata": {},
     "output_type": "execute_result"
    }
   ],
   "source": [
    "models_df = pd.concat([df_1,df_2,df_3,df_4, df_5,df_6])\n",
    "models_df"
   ]
  },
  {
   "cell_type": "markdown",
   "metadata": {},
   "source": [
    "---\n",
    "## Handling the imblance in the dataset\n",
    "- four Different approaches of balancing\n",
    "---"
   ]
  },
  {
   "cell_type": "code",
   "execution_count": 7,
   "metadata": {},
   "outputs": [],
   "source": [
    "def balancing(method, X, y):\n",
    "    X, y = method().fit_resample(X,y)\n",
    "    #print(y.value_counts())\n",
    "    return X, y\n",
    "\n",
    "def create_X_y(data, target):\n",
    "    X = data.drop(target, axis=1)\n",
    "    y = data[target]\n",
    "    return X, y\n",
    "\n",
    "def scale(scaler, X_train, X_test):\n",
    "    scaler = scaler()\n",
    "    X_train = scaler.fit_transform(X_train)\n",
    "    X_test = scaler.transform(X_test)\n",
    "    return X_train, X_test\n",
    "    \n",
    "def train_test(data, target, test_size, scaler, balance_method):\n",
    "    #Separate between Features and Target\n",
    "    X, y = create_X_y(data, target)\n",
    "    #Balancing\n",
    "    X, y = balancing(balance_method, X, y)\n",
    "    #print(X.shape, y.shape)\n",
    "    X_train, X_test, y_train, y_test = train_test_split(X, y, test_size=test_size, random_state=42, shuffle=True)\n",
    "    #Scale the data\n",
    "    X_train, X_test = scale(scaler, X_train, X_test)\n",
    "    #print the shapes\n",
    "    #print(\"Shapes after the split     \", X_train.shape, X_test.shape, y_train.shape, y_test.shape)\n",
    "    return X_train, X_test, y_train, y_test\n",
    "\n",
    "def create_model(model, name,  data, target, test_size, scaler, balance_method, balance_name): # model, name, data, target, test_size, scaler\n",
    "    X_train, X_test, y_train, y_test = train_test(data, target, test_size, scaler, balance_method)\n",
    "    m = model()\n",
    "    m.fit(X_train, y_train)\n",
    "    y_pred = m.predict(X_test)\n",
    "    df = pd.DataFrame(\n",
    "        {\"models\": [name],\n",
    "        f\"accuracy_{balance_name}\": [accuracy_score(y_test, y_pred)],\n",
    "        #f\"precision_score {balance_name}\": [precision_score(y_test, y_pred)],\n",
    "        f\"f1_score_{balance_name}\": [f1_score(y_test, y_pred)],\n",
    "        #f\"recall_score {balance_name}\": [recall_score(y_test, y_pred)]\n",
    "        })\n",
    "\n",
    "    #print(\"Accuracy Score             \", accuracy_score(y_test, y_pred))\n",
    "    #print(\"Classification Report \\n\", classification_report(y_test, y_pred))\n",
    "\n",
    "    # __, ax = plt.subplots(figsize=(10, 10))\n",
    "    # plot_confusion_matrix(m, X_test, y_test, ax=ax)\n",
    "    # plt.title(f\"{name} Confussion Matrix \", fontdict={\"fontsize\": 15});\n",
    "    return m, df\n",
    "\n"
   ]
  },
  {
   "cell_type": "code",
   "execution_count": 8,
   "metadata": {},
   "outputs": [],
   "source": [
    "model, df_1_sm = create_model(LogisticRegression, \"Logistic Regression\", df, \"exited\", .2, StandardScaler, SMOTE, \"smote\")\n",
    "model, df_2_sm = create_model(DecisionTreeClassifier, \"Decision Tree Classifier\", df, \"exited\", .2, StandardScaler, SMOTE, \"smote\")\n",
    "model, df_3_sm = create_model(RandomForestClassifier, \"Random Forest Classifier\", df, \"exited\", .2, StandardScaler,  SMOTE, \"smote\")\n",
    "model, df_4_sm = create_model(KNeighborsClassifier, \"KNeighborsClassifier\", df, \"exited\", .2, StandardScaler,  SMOTE, \"smote\")\n",
    "model, df_5_sm = create_model(GradientBoostingClassifier, \"GradientBoostingClassifier\", df, \"exited\", .2, StandardScaler,  SMOTE, \"smote\")\n",
    "model, df_6_sm = create_model(svm.SVC, \"svm\", df, \"exited\", .2, StandardScaler,  SMOTE, \"smote\")\n",
    "\n",
    "models_df_sm = pd.concat([df_1_sm,df_2_sm,df_3_sm,df_4_sm, df_5_sm,df_6_sm])\n"
   ]
  },
  {
   "cell_type": "code",
   "execution_count": 9,
   "metadata": {},
   "outputs": [],
   "source": [
    "model, df_1_ad = create_model(LogisticRegression, \"Logistic Regression\", df, \"exited\", .2, StandardScaler, ADASYN, \"adasyn\")\n",
    "model, df_2_ad = create_model(DecisionTreeClassifier, \"Decision Tree Classifier\", df, \"exited\", .2, StandardScaler, ADASYN, \"adasyn\")\n",
    "model, df_3_ad = create_model(RandomForestClassifier, \"Random Forest Classifier\", df, \"exited\", .2, StandardScaler,  ADASYN, \"adasyn\")\n",
    "model, df_4_ad = create_model(KNeighborsClassifier, \"KNeighborsClassifier\", df, \"exited\", .2, StandardScaler,  ADASYN, \"adasyn\")\n",
    "model, df_5_ad = create_model(GradientBoostingClassifier, \"GradientBoostingClassifier\", df, \"exited\", .2, StandardScaler,  ADASYN, \"adasyn\")\n",
    "model, df_6_ad = create_model(svm.SVC, \"svm\", df, \"exited\", .2, StandardScaler,  ADASYN, \"adasyn\")\n",
    "\n",
    "models_df_ad = pd.concat([df_1_ad,df_2_ad,df_3_ad,df_4_ad, df_5_ad,df_6_ad])\n"
   ]
  },
  {
   "cell_type": "code",
   "execution_count": 10,
   "metadata": {},
   "outputs": [],
   "source": [
    "model, df_1_smt = create_model(LogisticRegression, \"Logistic Regression\", df, \"exited\", .2, StandardScaler, SMOTETomek, \"smotetomek\")\n",
    "model, df_2_smt = create_model(DecisionTreeClassifier, \"Decision Tree Classifier\", df, \"exited\", .2, StandardScaler, SMOTETomek, \"smotetomek\")\n",
    "model, df_3_smt = create_model(RandomForestClassifier, \"Random Forest Classifier\", df, \"exited\", .2, StandardScaler,  SMOTETomek, \"smotetomek\")\n",
    "model, df_4_smt = create_model(KNeighborsClassifier, \"KNeighborsClassifier\", df, \"exited\", .2, StandardScaler,  SMOTETomek, \"smotetomek\")\n",
    "model, df_5_smt = create_model(GradientBoostingClassifier, \"GradientBoostingClassifier\", df, \"exited\", .2, StandardScaler,  SMOTETomek, \"smotetomek\")\n",
    "model, df_6_smt = create_model(svm.SVC, \"svm\", df, \"exited\", .2, StandardScaler,  SMOTETomek, \"smotetomek\")\n",
    "\n",
    "models_df_smt = pd.concat([df_1_smt,df_2_smt,df_3_smt,df_4_smt, df_5_smt,df_6_smt])\n"
   ]
  },
  {
   "cell_type": "code",
   "execution_count": 11,
   "metadata": {},
   "outputs": [],
   "source": [
    "model, df_1_sme = create_model(LogisticRegression, \"Logistic Regression\", df, \"exited\", .2, StandardScaler, SMOTEENN, \"smoteenn\")\n",
    "model, df_2_sme = create_model(DecisionTreeClassifier, \"Decision Tree Classifier\", df, \"exited\", .2, StandardScaler, SMOTEENN, \"smoteenn\")\n",
    "model, df_3_sme = create_model(RandomForestClassifier, \"Random Forest Classifier\", df, \"exited\", .2, StandardScaler,  SMOTEENN, \"smoteenn\")\n",
    "model, df_4_sme = create_model(KNeighborsClassifier, \"KNeighborsClassifier\", df, \"exited\", .2, StandardScaler,  SMOTEENN, \"smoteenn\")\n",
    "model, df_5_sme = create_model(GradientBoostingClassifier, \"GradientBoostingClassifier\", df, \"exited\", .2, StandardScaler,  SMOTEENN, \"smoteenn\")\n",
    "model, df_6_sme = create_model(svm.SVC, \"svm\", df, \"exited\", .2, StandardScaler,  SMOTEENN, \"smoteenn\")\n",
    "\n",
    "models_df_sme = pd.concat([df_1_sme,df_2_sme,df_3_sme,df_4_sme, df_5_sme,df_6_sme])\n"
   ]
  },
  {
   "cell_type": "code",
   "execution_count": 12,
   "metadata": {},
   "outputs": [],
   "source": [
    "dfs = [models_df_sm, models_df_ad, models_df_smt, models_df_sme]\n",
    "dfs = [df.set_index('models') for df in dfs]\n",
    "dfs = dfs[0].join(dfs[1:])"
   ]
  },
  {
   "cell_type": "code",
   "execution_count": 13,
   "metadata": {},
   "outputs": [],
   "source": [
    "dfs.reset_index(inplace=True)"
   ]
  },
  {
   "cell_type": "code",
   "execution_count": 14,
   "metadata": {},
   "outputs": [
    {
     "data": {
      "text/html": [
       "<div>\n",
       "<style scoped>\n",
       "    .dataframe tbody tr th:only-of-type {\n",
       "        vertical-align: middle;\n",
       "    }\n",
       "\n",
       "    .dataframe tbody tr th {\n",
       "        vertical-align: top;\n",
       "    }\n",
       "\n",
       "    .dataframe thead th {\n",
       "        text-align: right;\n",
       "    }\n",
       "</style>\n",
       "<table border=\"1\" class=\"dataframe\">\n",
       "  <thead>\n",
       "    <tr style=\"text-align: right;\">\n",
       "      <th></th>\n",
       "      <th>models</th>\n",
       "      <th>accuracy_smote</th>\n",
       "      <th>f1_score_smote</th>\n",
       "      <th>accuracy_adasyn</th>\n",
       "      <th>f1_score_adasyn</th>\n",
       "      <th>accuracy_smotetomek</th>\n",
       "      <th>f1_score_smotetomek</th>\n",
       "      <th>accuracy_smoteenn</th>\n",
       "      <th>f1_score_smoteenn</th>\n",
       "    </tr>\n",
       "  </thead>\n",
       "  <tbody>\n",
       "    <tr>\n",
       "      <th>0</th>\n",
       "      <td>Logistic Regression</td>\n",
       "      <td>0.834589</td>\n",
       "      <td>0.834329</td>\n",
       "      <td>0.827478</td>\n",
       "      <td>0.829193</td>\n",
       "      <td>0.827259</td>\n",
       "      <td>0.829004</td>\n",
       "      <td>0.843606</td>\n",
       "      <td>0.860481</td>\n",
       "    </tr>\n",
       "    <tr>\n",
       "      <th>1</th>\n",
       "      <td>Decision Tree Classifier</td>\n",
       "      <td>0.806026</td>\n",
       "      <td>0.802808</td>\n",
       "      <td>0.806775</td>\n",
       "      <td>0.810695</td>\n",
       "      <td>0.809524</td>\n",
       "      <td>0.811917</td>\n",
       "      <td>0.821456</td>\n",
       "      <td>0.838531</td>\n",
       "    </tr>\n",
       "    <tr>\n",
       "      <th>2</th>\n",
       "      <td>Random Forest Classifier</td>\n",
       "      <td>0.877903</td>\n",
       "      <td>0.875520</td>\n",
       "      <td>0.871079</td>\n",
       "      <td>0.870795</td>\n",
       "      <td>0.859206</td>\n",
       "      <td>0.859206</td>\n",
       "      <td>0.877473</td>\n",
       "      <td>0.890847</td>\n",
       "    </tr>\n",
       "    <tr>\n",
       "      <th>3</th>\n",
       "      <td>KNeighborsClassifier</td>\n",
       "      <td>0.844319</td>\n",
       "      <td>0.845000</td>\n",
       "      <td>0.840652</td>\n",
       "      <td>0.843016</td>\n",
       "      <td>0.843273</td>\n",
       "      <td>0.843102</td>\n",
       "      <td>0.844512</td>\n",
       "      <td>0.859890</td>\n",
       "    </tr>\n",
       "    <tr>\n",
       "      <th>4</th>\n",
       "      <td>GradientBoostingClassifier</td>\n",
       "      <td>0.849027</td>\n",
       "      <td>0.844789</td>\n",
       "      <td>0.856336</td>\n",
       "      <td>0.855975</td>\n",
       "      <td>0.856110</td>\n",
       "      <td>0.856731</td>\n",
       "      <td>0.866359</td>\n",
       "      <td>0.880000</td>\n",
       "    </tr>\n",
       "    <tr>\n",
       "      <th>5</th>\n",
       "      <td>svm</td>\n",
       "      <td>0.849655</td>\n",
       "      <td>0.847888</td>\n",
       "      <td>0.852258</td>\n",
       "      <td>0.853042</td>\n",
       "      <td>0.840131</td>\n",
       "      <td>0.839253</td>\n",
       "      <td>0.851767</td>\n",
       "      <td>0.865318</td>\n",
       "    </tr>\n",
       "  </tbody>\n",
       "</table>\n",
       "</div>"
      ],
      "text/plain": [
       "                       models  accuracy_smote  f1_score_smote  \\\n",
       "0         Logistic Regression        0.834589        0.834329   \n",
       "1    Decision Tree Classifier        0.806026        0.802808   \n",
       "2    Random Forest Classifier        0.877903        0.875520   \n",
       "3        KNeighborsClassifier        0.844319        0.845000   \n",
       "4  GradientBoostingClassifier        0.849027        0.844789   \n",
       "5                         svm        0.849655        0.847888   \n",
       "\n",
       "   accuracy_adasyn  f1_score_adasyn  accuracy_smotetomek  f1_score_smotetomek  \\\n",
       "0         0.827478         0.829193             0.827259             0.829004   \n",
       "1         0.806775         0.810695             0.809524             0.811917   \n",
       "2         0.871079         0.870795             0.859206             0.859206   \n",
       "3         0.840652         0.843016             0.843273             0.843102   \n",
       "4         0.856336         0.855975             0.856110             0.856731   \n",
       "5         0.852258         0.853042             0.840131             0.839253   \n",
       "\n",
       "   accuracy_smoteenn  f1_score_smoteenn  \n",
       "0           0.843606           0.860481  \n",
       "1           0.821456           0.838531  \n",
       "2           0.877473           0.890847  \n",
       "3           0.844512           0.859890  \n",
       "4           0.866359           0.880000  \n",
       "5           0.851767           0.865318  "
      ]
     },
     "execution_count": 14,
     "metadata": {},
     "output_type": "execute_result"
    }
   ],
   "source": [
    "dfs"
   ]
  },
  {
   "cell_type": "code",
   "execution_count": 15,
   "metadata": {},
   "outputs": [
    {
     "data": {
      "image/png": "[encoded data removed]",
      "text/plain": [
       "<Figure size 432x288 with 1 Axes>"
      ]
     },
     "metadata": {
      "needs_background": "light"
     },
     "output_type": "display_data"
    }
   ],
   "source": [
    "plt.bar(dfs.models, dfs.accuracy_smoteenn);"
   ]
  },
  {
   "cell_type": "markdown",
   "metadata": {},
   "source": [
    "### Conclusion\n",
    "After analysing different models and different balancing approaches we can conclude that Random Forest as model is the best fit and the best balancing is made with SMOTEEN"
   ]
  },
  {
   "cell_type": "markdown",
   "metadata": {},
   "source": [
    "---\n",
    "# Hyperparameter Optimization\n",
    "---\n"
   ]
  },
  {
   "cell_type": "code",
   "execution_count": 16,
   "metadata": {},
   "outputs": [],
   "source": [
    "X_train, X_test, y_train, y_test = train_test(df, \"exited\", .2, StandardScaler,  SMOTEENN)"
   ]
  },
  {
   "cell_type": "code",
   "execution_count": 17,
   "metadata": {},
   "outputs": [
    {
     "data": {
      "text/plain": [
       "{'criterion': 'gini',\n",
       " 'max_depth': 12,\n",
       " 'min_samples_leaf': 4,\n",
       " 'n_estimators': 800}"
      ]
     },
     "execution_count": 17,
     "metadata": {},
     "output_type": "execute_result"
    }
   ],
   "source": [
    "param_grid = { \n",
    "    \"n_estimators\": [200, 500, 800],\n",
    "    \"criterion\" :[\"gini\", \"entropy\"],\n",
    "    \"max_depth\" : [7,8,10,12],\n",
    "    \"min_samples_leaf\" : [4,6,8,10]\n",
    "    \n",
    "}\n",
    "\n",
    "rfc = RandomForestClassifier(random_state=42)\n",
    "rf_grid = GridSearchCV(estimator=rfc, param_grid=param_grid, cv= 5, n_jobs=-1)\n",
    "rf_grid.fit(X_train, y_train)\n",
    "best_params = rf_grid.best_params_\n",
    "best_params"
   ]
  },
  {
   "cell_type": "code",
   "execution_count": 18,
   "metadata": {},
   "outputs": [
    {
     "name": "stdout",
     "output_type": "stream",
     "text": [
      "              precision    recall  f1-score   support\n",
      "\n",
      "           0       0.86      0.84      0.85       573\n",
      "           1       0.87      0.89      0.88       718\n",
      "\n",
      "    accuracy                           0.87      1291\n",
      "   macro avg       0.87      0.86      0.86      1291\n",
      "weighted avg       0.87      0.87      0.87      1291\n",
      "\n"
     ]
    },
    {
     "data": {
      "image/png": "[encoded data removed]",
      "text/plain": [
       "<Figure size 720x720 with 2 Axes>"
      ]
     },
     "metadata": {
      "needs_background": "light"
     },
     "output_type": "display_data"
    }
   ],
   "source": [
    "rf_model_gcv = RandomForestClassifier(random_state=42, criterion=\"gini\", max_depth=12, max_features=\"auto\", min_samples_leaf=4, n_estimators=800)\n",
    "\n",
    "rf_model_gcv.fit(X_train, y_train)\n",
    "\n",
    "y_pred = rf_model_gcv.predict(X_test)\n",
    "\n",
    "print(classification_report(y_test, y_pred))\n",
    "\n",
    "__, ax = plt.subplots(figsize=(10, 10))\n",
    "plot_confusion_matrix(rf_model_gcv, X_test, y_test, ax=ax);"
   ]
  },
  {
   "cell_type": "markdown",
   "metadata": {},
   "source": [
    "# Export the model"
   ]
  },
  {
   "cell_type": "code",
   "execution_count": 20,
   "metadata": {},
   "outputs": [
    {
     "data": {
      "text/plain": [
       "['models/bank_churn_model']"
      ]
     },
     "execution_count": 20,
     "metadata": {},
     "output_type": "execute_result"
    }
   ],
   "source": [
    "joblib.dump(rf_model_gcv, \"models/bank_churn_model\")"
   ]
  },
  {
   "cell_type": "code",
   "execution_count": null,
   "metadata": {},
   "outputs": [],
   "source": []
  },
  {
   "cell_type": "code",
   "execution_count": null,
   "metadata": {},
   "outputs": [],
   "source": []
  },
  {
   "cell_type": "code",
   "execution_count": null,
   "metadata": {},
   "outputs": [],
   "source": []
  }
 ],
 "metadata": {
  "kernelspec": {
   "display_name": "Python 3.9.12 ('env39')",
   "language": "python",
   "name": "python3"
  },
  "language_info": {
   "codemirror_mode": {
    "name": "ipython",
    "version": 3
   },
   "file_extension": ".py",
   "mimetype": "text/x-python",
   "name": "python",
   "nbconvert_exporter": "python",
   "pygments_lexer": "ipython3",
   "version": "3.9.12"
  },
  "orig_nbformat": 4,
  "vscode": {
   "interpreter": {
    "hash": "d99f0e157378c90f7316619e3cde40c68f7e9c40e83e97896d95e83d34494ba1"
   }
  }
 },
 "nbformat": 4,
 "nbformat_minor": 2
}
