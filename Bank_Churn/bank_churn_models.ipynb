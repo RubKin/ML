{
 "cells": [
  {
   "cell_type": "code",
   "execution_count": 24,
   "metadata": {},
   "outputs": [],
   "source": [
    "import pandas as pd\n",
    "import numpy as np\n",
    "import matplotlib.pyplot as plt\n",
    "import seaborn as sns\n",
    "\n",
    "from imblearn.combine import SMOTEENN, SMOTETomek\n",
    "from imblearn.over_sampling import SMOTE, ADASYN\n",
    "\n",
    "\n",
    "from sklearn.model_selection import train_test_split\n",
    "from sklearn.preprocessing import StandardScaler\n",
    "from sklearn.decomposition import IncrementalPCA\n",
    "from sklearn.metrics import classification_report, accuracy_score, confusion_matrix, plot_confusion_matrix, precision_score, recall_score, f1_score\n",
    "\n",
    "from sklearn.linear_model import LogisticRegression\n",
    "from sklearn import svm\n",
    "from sklearn.neighbors import KNeighborsClassifier\n",
    "\n",
    "from sklearn.model_selection import GridSearchCV\n",
    "from sklearn.tree import DecisionTreeClassifier\n",
    "from sklearn.ensemble import RandomForestClassifier, GradientBoostingClassifier\n",
    "import xgboost as xgb#\n",
    "\n",
    "import pickle\n",
    "\n",
    "plt.rcParams['figure.figsize'] = (14, 12)\n",
    "\n",
    "\n",
    "import warnings\n",
    "warnings.filterwarnings(\"ignore\")\n"
   ]
  },
  {
   "cell_type": "code",
   "execution_count": 2,
   "metadata": {},
   "outputs": [
    {
     "data": {
      "text/plain": [
       "((10000, 13), (10000,))"
      ]
     },
     "execution_count": 2,
     "metadata": {},
     "output_type": "execute_result"
    }
   ],
   "source": [
    "df = pd.read_csv(\"data/chrun_modeling_fe.csv\", index_col=[0])\n",
    "X = df.drop(\"exited\", axis=1)\n",
    "y = df[\"exited\"]\n",
    "X.shape, y.shape"
   ]
  },
  {
   "cell_type": "code",
   "execution_count": 59,
   "metadata": {},
   "outputs": [],
   "source": [
    "def train_test(X,y, size):\n",
    "    X_train, X_test, y_train, y_test = train_test_split(X, y, test_size=size, random_state=42)\n",
    "    return X_train, X_test, y_train, y_test"
   ]
  },
  {
   "cell_type": "code",
   "execution_count": 61,
   "metadata": {},
   "outputs": [],
   "source": [
    "X_train, X_test, y_train, y_test = train_test(X,y, .20)"
   ]
  },
  {
   "cell_type": "code",
   "execution_count": 3,
   "metadata": {},
   "outputs": [],
   "source": [
    "X_train, X_test, y_train, y_test = train_test_split(X, y, test_size=0.20, random_state=42)"
   ]
  },
  {
   "cell_type": "code",
   "execution_count": 4,
   "metadata": {},
   "outputs": [],
   "source": [
    "scaler = StandardScaler()\n",
    "X_train = scaler.fit_transform(X_train)\n",
    "X_test = scaler.transform(X_test)"
   ]
  },
  {
   "cell_type": "markdown",
   "metadata": {},
   "source": [
    "# Models"
   ]
  },
  {
   "cell_type": "code",
   "execution_count": 5,
   "metadata": {},
   "outputs": [],
   "source": [
    "def create_model(model, X_train, X_test, y_train, y_test):\n",
    "    m = model\n",
    "    m= m.fit(X_train, y_train)\n",
    "    y_pred = m.predict(X_test)\n",
    "    #print(accuracy_score(y_test, y_pred))\n",
    "    return m"
   ]
  },
  {
   "cell_type": "code",
   "execution_count": 6,
   "metadata": {},
   "outputs": [],
   "source": [
    "# create_model(LogisticRegression, X_train, X_test, y_train, y_test)"
   ]
  },
  {
   "cell_type": "code",
   "execution_count": 7,
   "metadata": {},
   "outputs": [
    {
     "name": "stdout",
     "output_type": "stream",
     "text": [
      "              precision    recall  f1-score   support\n",
      "\n",
      "           0       0.86      0.96      0.91      1607\n",
      "           1       0.69      0.36      0.48       393\n",
      "\n",
      "    accuracy                           0.84      2000\n",
      "   macro avg       0.78      0.66      0.69      2000\n",
      "weighted avg       0.83      0.84      0.82      2000\n",
      "\n"
     ]
    },
    {
     "data": {
      "image/png": "[encoded data removed]",
      "text/plain": [
       "<Figure size 720x720 with 2 Axes>"
      ]
     },
     "metadata": {
      "needs_background": "light"
     },
     "output_type": "display_data"
    }
   ],
   "source": [
    "model = LogisticRegression()\n",
    "model.fit(X_train, y_train)\n",
    "y_pred = model.predict(X_test)\n",
    "\n",
    "model.score(X_test, y_pred)\n",
    "\n",
    "print(classification_report(y_test, y_pred))\n",
    "\n",
    "\n",
    "__, ax = plt.subplots(figsize=(10, 10))\n",
    "plot_confusion_matrix(model, X_test, y_test, ax=ax);"
   ]
  },
  {
   "cell_type": "markdown",
   "metadata": {},
   "source": [
    "## Hangling the imblance in the dataset"
   ]
  },
  {
   "cell_type": "code",
   "execution_count": 8,
   "metadata": {},
   "outputs": [
    {
     "name": "stdout",
     "output_type": "stream",
     "text": [
      "1    7963\n",
      "0    7963\n",
      "Name: exited, dtype: int64\n",
      "1    7977\n",
      "0    7963\n",
      "Name: exited, dtype: int64\n",
      "1    6884\n",
      "0    6884\n",
      "Name: exited, dtype: int64\n",
      "1    3625\n",
      "0    2891\n",
      "Name: exited, dtype: int64\n"
     ]
    }
   ],
   "source": [
    "X_somte, y_smote = SMOTE().fit_resample(X,y)\n",
    "print(y_smote.value_counts())\n",
    "\n",
    "X_adasyn, y_adasyn = ADASYN().fit_resample(X,y)\n",
    "print(y_adasyn.value_counts())\n",
    "\n",
    "X_somteto, y_smoteto = SMOTETomek().fit_resample(X,y)\n",
    "print(y_smoteto.value_counts())\n",
    "\n",
    "X_somteenn, y_smoteenn = SMOTEENN().fit_resample(X,y)\n",
    "print(y_smoteenn.value_counts())\n",
    "\n"
   ]
  },
  {
   "cell_type": "code",
   "execution_count": 9,
   "metadata": {},
   "outputs": [],
   "source": [
    "X_train, X_test, y_train, y_test = train_test_split(X_somte, y_smote, test_size=0.20, random_state=42)\n",
    "\n",
    "scaler = StandardScaler()\n",
    "X_train = scaler.fit_transform(X_train)\n",
    "X_test = scaler.transform(X_test)\n"
   ]
  },
  {
   "cell_type": "markdown",
   "metadata": {},
   "source": [
    "## Logistic Regression"
   ]
  },
  {
   "cell_type": "code",
   "execution_count": 26,
   "metadata": {},
   "outputs": [
    {
     "name": "stdout",
     "output_type": "stream",
     "text": [
      "              precision    recall  f1-score   support\n",
      "\n",
      "           0       0.84      0.81      0.83      1633\n",
      "           1       0.81      0.84      0.83      1553\n",
      "\n",
      "    accuracy                           0.83      3186\n",
      "   macro avg       0.83      0.83      0.83      3186\n",
      "weighted avg       0.83      0.83      0.83      3186\n",
      "\n"
     ]
    },
    {
     "data": {
      "image/png": "[encoded data removed]",
      "text/plain": [
       "<Figure size 720x720 with 2 Axes>"
      ]
     },
     "metadata": {
      "needs_background": "light"
     },
     "output_type": "display_data"
    }
   ],
   "source": [
    "lr = LogisticRegression()\n",
    "lr.fit(X_train, y_train)\n",
    "y_pred_1 = lr.predict(X_test)\n",
    "\n",
    "lr.score(X_test, y_pred_1)\n",
    "\n",
    "print(classification_report(y_test, y_pred_1))\n",
    "\n",
    "\n",
    "__, ax = plt.subplots(figsize=(10, 10))\n",
    "plot_confusion_matrix(lr, X_test, y_test, ax=ax);"
   ]
  },
  {
   "cell_type": "markdown",
   "metadata": {},
   "source": [
    "## SVM"
   ]
  },
  {
   "cell_type": "code",
   "execution_count": 20,
   "metadata": {},
   "outputs": [
    {
     "name": "stdout",
     "output_type": "stream",
     "text": [
      "              precision    recall  f1-score   support\n",
      "\n",
      "           0       0.86      0.84      0.85      1633\n",
      "           1       0.84      0.85      0.84      1553\n",
      "\n",
      "    accuracy                           0.85      3186\n",
      "   macro avg       0.85      0.85      0.85      3186\n",
      "weighted avg       0.85      0.85      0.85      3186\n",
      "\n"
     ]
    },
    {
     "data": {
      "image/png": "[encoded data removed]",
      "text/plain": [
       "<Figure size 720x720 with 2 Axes>"
      ]
     },
     "metadata": {
      "needs_background": "light"
     },
     "output_type": "display_data"
    }
   ],
   "source": [
    "svm = svm.SVC()\n",
    "svm.fit(X_train, y_train)\n",
    "y_pred_2 = svm.predict(X_test)\n",
    "\n",
    "svm.score(X_test, y_pred_2)\n",
    "\n",
    "print(classification_report(y_test, y_pred_2))\n",
    "\n",
    "\n",
    "__, ax = plt.subplots(figsize=(10, 10))\n",
    "plot_confusion_matrix(svm, X_test, y_test, ax=ax);"
   ]
  },
  {
   "cell_type": "markdown",
   "metadata": {},
   "source": [
    "# KNeighbors"
   ]
  },
  {
   "cell_type": "code",
   "execution_count": 21,
   "metadata": {},
   "outputs": [
    {
     "name": "stdout",
     "output_type": "stream",
     "text": [
      "              precision    recall  f1-score   support\n",
      "\n",
      "           0       0.87      0.83      0.85      1633\n",
      "           1       0.83      0.87      0.85      1553\n",
      "\n",
      "    accuracy                           0.85      3186\n",
      "   macro avg       0.85      0.85      0.85      3186\n",
      "weighted avg       0.85      0.85      0.85      3186\n",
      "\n"
     ]
    },
    {
     "data": {
      "image/png": "[encoded data removed]",
      "text/plain": [
       "<Figure size 720x720 with 2 Axes>"
      ]
     },
     "metadata": {
      "needs_background": "light"
     },
     "output_type": "display_data"
    }
   ],
   "source": [
    "knn = KNeighborsClassifier()\n",
    "knn.fit(X_train, y_train)\n",
    "y_pred_3 = knn.predict(X_test)\n",
    "\n",
    "knn.score(X_test, y_pred_3)\n",
    "\n",
    "print(classification_report(y_test, y_pred_3))\n",
    "\n",
    "\n",
    "__, ax = plt.subplots(figsize=(10, 10))\n",
    "plot_confusion_matrix(knn, X_test, y_test, ax=ax);"
   ]
  },
  {
   "cell_type": "markdown",
   "metadata": {},
   "source": [
    "# Decision Tree"
   ]
  },
  {
   "cell_type": "code",
   "execution_count": 22,
   "metadata": {},
   "outputs": [
    {
     "name": "stdout",
     "output_type": "stream",
     "text": [
      "              precision    recall  f1-score   support\n",
      "\n",
      "           0       0.87      0.83      0.85      1633\n",
      "           1       0.83      0.87      0.85      1553\n",
      "\n",
      "    accuracy                           0.85      3186\n",
      "   macro avg       0.85      0.85      0.85      3186\n",
      "weighted avg       0.85      0.85      0.85      3186\n",
      "\n"
     ]
    },
    {
     "data": {
      "image/png": "[encoded data removed]",
      "text/plain": [
       "<Figure size 720x720 with 2 Axes>"
      ]
     },
     "metadata": {
      "needs_background": "light"
     },
     "output_type": "display_data"
    }
   ],
   "source": [
    "dt = DecisionTreeClassifier()\n",
    "dt.fit(X_train, y_train)\n",
    "y_pred_4 = dt.predict(X_test)\n",
    "\n",
    "dt.score(X_test, y_pred_3)\n",
    "\n",
    "print(classification_report(y_test, y_pred_3))\n",
    "\n",
    "\n",
    "__, ax = plt.subplots(figsize=(10, 10))\n",
    "plot_confusion_matrix(dt, X_test, y_test, ax=ax);"
   ]
  },
  {
   "cell_type": "markdown",
   "metadata": {},
   "source": [
    "## Random Forrest"
   ]
  },
  {
   "cell_type": "code",
   "execution_count": 23,
   "metadata": {},
   "outputs": [
    {
     "name": "stdout",
     "output_type": "stream",
     "text": [
      "              precision    recall  f1-score   support\n",
      "\n",
      "           0       0.87      0.83      0.85      1633\n",
      "           1       0.83      0.87      0.85      1553\n",
      "\n",
      "    accuracy                           0.85      3186\n",
      "   macro avg       0.85      0.85      0.85      3186\n",
      "weighted avg       0.85      0.85      0.85      3186\n",
      "\n"
     ]
    },
    {
     "data": {
      "image/png": "[encoded data removed]",
      "text/plain": [
       "<Figure size 720x720 with 2 Axes>"
      ]
     },
     "metadata": {
      "needs_background": "light"
     },
     "output_type": "display_data"
    }
   ],
   "source": [
    "rf = RandomForestClassifier()\n",
    "rf.fit(X_train, y_train)\n",
    "y_pred_5 = rf.predict(X_test)\n",
    "\n",
    "rf.score(X_test, y_pred_3)\n",
    "\n",
    "print(classification_report(y_test, y_pred_3))\n",
    "\n",
    "\n",
    "__, ax = plt.subplots(figsize=(10, 10))\n",
    "plot_confusion_matrix(rf, X_test, y_test, ax=ax);"
   ]
  },
  {
   "cell_type": "markdown",
   "metadata": {},
   "source": [
    "# Gradiant Boosting"
   ]
  },
  {
   "cell_type": "code",
   "execution_count": 25,
   "metadata": {},
   "outputs": [
    {
     "name": "stdout",
     "output_type": "stream",
     "text": [
      "              precision    recall  f1-score   support\n",
      "\n",
      "           0       0.87      0.83      0.85      1633\n",
      "           1       0.83      0.87      0.85      1553\n",
      "\n",
      "    accuracy                           0.85      3186\n",
      "   macro avg       0.85      0.85      0.85      3186\n",
      "weighted avg       0.85      0.85      0.85      3186\n",
      "\n"
     ]
    },
    {
     "data": {
      "image/png": "[encoded data removed]",
      "text/plain": [
       "<Figure size 720x720 with 2 Axes>"
      ]
     },
     "metadata": {
      "needs_background": "light"
     },
     "output_type": "display_data"
    }
   ],
   "source": [
    "gb = GradientBoostingClassifier()\n",
    "gb.fit(X_train, y_train)\n",
    "y_pred_6 = gb.predict(X_test)\n",
    "\n",
    "gb.score(X_test, y_pred_3)\n",
    "\n",
    "print(classification_report(y_test, y_pred_3))\n",
    "\n",
    "\n",
    "__, ax = plt.subplots(figsize=(10, 10))\n",
    "plot_confusion_matrix(gb, X_test, y_test, ax=ax);"
   ]
  },
  {
   "cell_type": "markdown",
   "metadata": {},
   "source": [
    "# Comparison between the models"
   ]
  },
  {
   "cell_type": "code",
   "execution_count": 46,
   "metadata": {},
   "outputs": [],
   "source": [
    "compare_df = pd.DataFrame(\n",
    "    {\"models\": [\"lr\", \"svm\", \"knn\", \"dt\", \"rf\", \"gb\"],\n",
    "    \"accuracy\": [accuracy_score(y_test, y_pred_1),\n",
    "           accuracy_score(y_test, y_pred_2),\n",
    "           accuracy_score(y_test, y_pred_3),\n",
    "           accuracy_score(y_test, y_pred_4),\n",
    "           accuracy_score(y_test, y_pred_5),\n",
    "           accuracy_score(y_test, y_pred_6)], \n",
    "    \"precision_score\": [precision_score(y_test, y_pred_1),\n",
    "           precision_score(y_test, y_pred_2),\n",
    "           precision_score(y_test, y_pred_3),\n",
    "           precision_score(y_test, y_pred_4),\n",
    "           precision_score(y_test, y_pred_5),\n",
    "           precision_score(y_test, y_pred_6)],\n",
    "     \"f1_score\": [f1_score(y_test, y_pred_1),\n",
    "           f1_score(y_test, y_pred_2),\n",
    "           f1_score(y_test, y_pred_3),\n",
    "           f1_score(y_test, y_pred_4),\n",
    "           f1_score(y_test, y_pred_5),\n",
    "           f1_score(y_test, y_pred_6)],\n",
    "       \"recall_score\": [recall_score(y_test, y_pred_1),\n",
    "           recall_score(y_test, y_pred_2),\n",
    "           recall_score(y_test, y_pred_3),\n",
    "           recall_score(y_test, y_pred_4),\n",
    "           recall_score(y_test, y_pred_5),\n",
    "           recall_score(y_test, y_pred_6)]\n",
    "           })"
   ]
  },
  {
   "cell_type": "code",
   "execution_count": 47,
   "metadata": {},
   "outputs": [
    {
     "data": {
      "text/html": [
       "<div>\n",
       "<style scoped>\n",
       "    .dataframe tbody tr th:only-of-type {\n",
       "        vertical-align: middle;\n",
       "    }\n",
       "\n",
       "    .dataframe tbody tr th {\n",
       "        vertical-align: top;\n",
       "    }\n",
       "\n",
       "    .dataframe thead th {\n",
       "        text-align: right;\n",
       "    }\n",
       "</style>\n",
       "<table border=\"1\" class=\"dataframe\">\n",
       "  <thead>\n",
       "    <tr style=\"text-align: right;\">\n",
       "      <th></th>\n",
       "      <th>models</th>\n",
       "      <th>accuracy</th>\n",
       "      <th>precision_score</th>\n",
       "      <th>f1_score</th>\n",
       "      <th>recall_score</th>\n",
       "    </tr>\n",
       "  </thead>\n",
       "  <tbody>\n",
       "    <tr>\n",
       "      <th>0</th>\n",
       "      <td>lr</td>\n",
       "      <td>0.827684</td>\n",
       "      <td>0.811414</td>\n",
       "      <td>0.826540</td>\n",
       "      <td>0.842241</td>\n",
       "    </tr>\n",
       "    <tr>\n",
       "      <th>1</th>\n",
       "      <td>svm</td>\n",
       "      <td>0.847458</td>\n",
       "      <td>0.838730</td>\n",
       "      <td>0.844629</td>\n",
       "      <td>0.850612</td>\n",
       "    </tr>\n",
       "    <tr>\n",
       "      <th>2</th>\n",
       "      <td>knn</td>\n",
       "      <td>0.845261</td>\n",
       "      <td>0.825553</td>\n",
       "      <td>0.845017</td>\n",
       "      <td>0.865422</td>\n",
       "    </tr>\n",
       "    <tr>\n",
       "      <th>3</th>\n",
       "      <td>dt</td>\n",
       "      <td>0.811362</td>\n",
       "      <td>0.798995</td>\n",
       "      <td>0.808903</td>\n",
       "      <td>0.819060</td>\n",
       "    </tr>\n",
       "    <tr>\n",
       "      <th>4</th>\n",
       "      <td>rf</td>\n",
       "      <td>0.876648</td>\n",
       "      <td>0.871795</td>\n",
       "      <td>0.873755</td>\n",
       "      <td>0.875724</td>\n",
       "    </tr>\n",
       "    <tr>\n",
       "      <th>5</th>\n",
       "      <td>gb</td>\n",
       "      <td>0.850596</td>\n",
       "      <td>0.847195</td>\n",
       "      <td>0.846649</td>\n",
       "      <td>0.846104</td>\n",
       "    </tr>\n",
       "  </tbody>\n",
       "</table>\n",
       "</div>"
      ],
      "text/plain": [
       "  models  accuracy  precision_score  f1_score  recall_score\n",
       "0     lr  0.827684         0.811414  0.826540      0.842241\n",
       "1    svm  0.847458         0.838730  0.844629      0.850612\n",
       "2    knn  0.845261         0.825553  0.845017      0.865422\n",
       "3     dt  0.811362         0.798995  0.808903      0.819060\n",
       "4     rf  0.876648         0.871795  0.873755      0.875724\n",
       "5     gb  0.850596         0.847195  0.846649      0.846104"
      ]
     },
     "execution_count": 47,
     "metadata": {},
     "output_type": "execute_result"
    }
   ],
   "source": [
    "compare_df"
   ]
  },
  {
   "cell_type": "code",
   "execution_count": 58,
   "metadata": {},
   "outputs": [
    {
     "data": {
      "image/png": "[encoded data removed]",
      "text/plain": [
       "<Figure size 1440x864 with 1 Axes>"
      ]
     },
     "metadata": {
      "needs_background": "light"
     },
     "output_type": "display_data"
    }
   ],
   "source": [
    "plt.figure(figsize=(20,12))\n",
    "ax = sns.barplot(compare_df.models, compare_df.accuracy)\n",
    "plt.title(\"Accuracy Score of the different Models\", fontdict={\"fontsize\": 15})\n",
    "ax.bar_label(ax.containers[0]);\n"
   ]
  }
 ],
 "metadata": {
  "kernelspec": {
   "display_name": "Python 3.9.12 ('env39')",
   "language": "python",
   "name": "python3"
  },
  "language_info": {
   "codemirror_mode": {
    "name": "ipython",
    "version": 3
   },
   "file_extension": ".py",
   "mimetype": "text/x-python",
   "name": "python",
   "nbconvert_exporter": "python",
   "pygments_lexer": "ipython3",
   "version": "3.9.12"
  },
  "orig_nbformat": 4,
  "vscode": {
   "interpreter": {
    "hash": "d99f0e157378c90f7316619e3cde40c68f7e9c40e83e97896d95e83d34494ba1"
   }
  }
 },
 "nbformat": 4,
 "nbformat_minor": 2
}
