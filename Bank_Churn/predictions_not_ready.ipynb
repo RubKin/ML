{
 "cells": [
  {
   "cell_type": "code",
   "execution_count": 13,
   "metadata": {},
   "outputs": [],
   "source": [
    "import pandas as pd\n",
    "import numpy as np\n",
    "import matplotlib.pyplot as plt\n",
    "import seaborn as sns\n",
    "\n",
    "from sklearn.preprocessing import StandardScaler\n",
    "from tkinter import *\n",
    "\n",
    "import pickle\n",
    "import joblib\n",
    "\n",
    "plt.rcParams['figure.figsize'] = (14, 12)\n",
    "\n",
    "\n",
    "import warnings\n",
    "warnings.filterwarnings(\"ignore\")\n"
   ]
  },
  {
   "cell_type": "code",
   "execution_count": 5,
   "metadata": {},
   "outputs": [],
   "source": [
    "df = pd.read_csv(\"data/chrun_modeling_fe.csv\", index_col=[0])\n",
    "model = joblib.load(\"models/bank_churn_model\")"
   ]
  },
  {
   "cell_type": "code",
   "execution_count": 8,
   "metadata": {},
   "outputs": [
    {
     "data": {
      "text/plain": [
       "Index(['creditscore', 'age', 'tenure', 'balance', 'estimatedsalary', 'exited',\n",
       "       'numofproducts_2', 'numofproducts_3', 'numofproducts_4', 'hascrcard_1',\n",
       "       'isactivemember_1', 'geography_Germany', 'geography_Spain',\n",
       "       'gender_Male'],\n",
       "      dtype='object')"
      ]
     },
     "execution_count": 8,
     "metadata": {},
     "output_type": "execute_result"
    }
   ],
   "source": [
    "df.columns"
   ]
  },
  {
   "cell_type": "code",
   "execution_count": 9,
   "metadata": {},
   "outputs": [
    {
     "data": {
      "text/plain": [
       "creditscore             608.00\n",
       "age                      41.00\n",
       "tenure                    1.00\n",
       "balance               83807.86\n",
       "estimatedsalary      112542.58\n",
       "exited                    0.00\n",
       "numofproducts_2           0.00\n",
       "numofproducts_3           0.00\n",
       "numofproducts_4           0.00\n",
       "hascrcard_1               0.00\n",
       "isactivemember_1          1.00\n",
       "geography_Germany         0.00\n",
       "geography_Spain           1.00\n",
       "gender_Male               0.00\n",
       "Name: 15647311, dtype: float64"
      ]
     },
     "execution_count": 9,
     "metadata": {},
     "output_type": "execute_result"
    }
   ],
   "source": [
    "df.iloc[1]"
   ]
  },
  {
   "cell_type": "code",
   "execution_count": 11,
   "metadata": {},
   "outputs": [
    {
     "data": {
      "text/plain": [
       "array([0])"
      ]
     },
     "execution_count": 11,
     "metadata": {},
     "output_type": "execute_result"
    }
   ],
   "source": [
    "model.predict([[560, 56, 4, 90000, 100000, 0 , 1, 0, 0, 1, 0, 1, 1]])"
   ]
  },
  {
   "cell_type": "code",
   "execution_count": 12,
   "metadata": {},
   "outputs": [
    {
     "data": {
      "text/plain": [
       "array([0])"
      ]
     },
     "execution_count": 12,
     "metadata": {},
     "output_type": "execute_result"
    }
   ],
   "source": [
    "model.predict([[619, 42, 2, 0, 100000, 0 , 1, 0, 0, 1, 0, 1, 1]])"
   ]
  },
  {
   "cell_type": "code",
   "execution_count": 16,
   "metadata": {},
   "outputs": [
    {
     "ename": "NameError",
     "evalue": "name 'e1' is not defined",
     "output_type": "error",
     "traceback": [
      "\u001b[0;31m---------------------------------------------------------------------------\u001b[0m",
      "\u001b[0;31mNameError\u001b[0m                                 Traceback (most recent call last)",
      "\u001b[0;32m/tmp/ipykernel_59013/4254188373.py\u001b[0m in \u001b[0;36m<cell line: 26>\u001b[0;34m()\u001b[0m\n\u001b[1;32m     24\u001b[0m     \u001b[0mresult\u001b[0m\u001b[0;34m=\u001b[0m\u001b[0mmodel\u001b[0m\u001b[0;34m.\u001b[0m\u001b[0mpredict\u001b[0m\u001b[0;34m(\u001b[0m\u001b[0msc\u001b[0m\u001b[0;34m.\u001b[0m\u001b[0mtransform\u001b[0m\u001b[0;34m(\u001b[0m\u001b[0;34m[\u001b[0m\u001b[0;34m[\u001b[0m\u001b[0mp1\u001b[0m\u001b[0;34m,\u001b[0m\u001b[0mp2\u001b[0m\u001b[0;34m,\u001b[0m\u001b[0mp3\u001b[0m\u001b[0;34m,\u001b[0m\u001b[0mp4\u001b[0m\u001b[0;34m,\u001b[0m\u001b[0mp5\u001b[0m\u001b[0;34m,\u001b[0m\u001b[0mp6\u001b[0m\u001b[0;34m,\u001b[0m\u001b[0mp7\u001b[0m\u001b[0;34m,\u001b[0m\u001b[0mp8\u001b[0m\u001b[0;34m,\u001b[0m\u001b[0mp9\u001b[0m\u001b[0;34m,\u001b[0m\u001b[0mp10\u001b[0m\u001b[0;34m,\u001b[0m\u001b[0mp11\u001b[0m\u001b[0;34m,\u001b[0m\u001b[0mgeography_Germany\u001b[0m\u001b[0;34m,\u001b[0m \u001b[0mgeography_Spain\u001b[0m\u001b[0;34m,\u001b[0m\u001b[0mp10\u001b[0m\u001b[0;34m]\u001b[0m\u001b[0;34m]\u001b[0m\u001b[0;34m)\u001b[0m\u001b[0;34m)\u001b[0m\u001b[0;34m\u001b[0m\u001b[0;34m\u001b[0m\u001b[0m\n\u001b[1;32m     25\u001b[0m \u001b[0;34m\u001b[0m\u001b[0m\n\u001b[0;32m---> 26\u001b[0;31m \u001b[0me1\u001b[0m\u001b[0;34m.\u001b[0m\u001b[0mgrid\u001b[0m\u001b[0;34m(\u001b[0m\u001b[0mrow\u001b[0m\u001b[0;34m=\u001b[0m\u001b[0;36m1\u001b[0m\u001b[0;34m,\u001b[0m \u001b[0mcolumn\u001b[0m\u001b[0;34m=\u001b[0m\u001b[0;36m1\u001b[0m\u001b[0;34m)\u001b[0m\u001b[0;34m\u001b[0m\u001b[0;34m\u001b[0m\u001b[0m\n\u001b[0m",
      "\u001b[0;31mNameError\u001b[0m: name 'e1' is not defined"
     ]
    }
   ],
   "source": [
    "def entry_fields():\n",
    "    p1=int(e1.get())\n",
    "    p2=int(e2.get())\n",
    "    p3=int(e3.get())\n",
    "    p4=float(e4.get())\n",
    "    p5=float(e5.get())\n",
    "    p6=int(e6.get())\n",
    "    p7=int(e7.get())\n",
    "    p8=int(e8.get())\n",
    "    p9=int(e9.get())\n",
    "    p10=int(e10.get())\n",
    "    p11=int(e11.get())\n",
    "    if p12 == 1:\n",
    "        geography_Germany=1\n",
    "        geography_Spain=0\n",
    "    elif p12 == 2:\n",
    "        geography_Germany=0\n",
    "        geography_Spain=0\n",
    "    p9=int(e9.get())\n",
    "    p10=int(e10.get()) \n",
    "\n",
    "    model= joblib.load(\"models/bank_churn_model\")\n",
    "    sc= StandardScaler\n",
    "    result=model.predict(sc.transform([[p1,p2,p3,p4,p5,p6,p7,p8,p9,p10,p11,geography_Germany, geography_Spain,p10]]))\n",
    "\n",
    "e1.grid(row=1, column=1)"
   ]
  }
 ],
 "metadata": {
  "kernelspec": {
   "display_name": "Python 3.9.12 ('env39')",
   "language": "python",
   "name": "python3"
  },
  "language_info": {
   "codemirror_mode": {
    "name": "ipython",
    "version": 3
   },
   "file_extension": ".py",
   "mimetype": "text/x-python",
   "name": "python",
   "nbconvert_exporter": "python",
   "pygments_lexer": "ipython3",
   "version": "3.9.12"
  },
  "orig_nbformat": 4,
  "vscode": {
   "interpreter": {
    "hash": "d99f0e157378c90f7316619e3cde40c68f7e9c40e83e97896d95e83d34494ba1"
   }
  }
 },
 "nbformat": 4,
 "nbformat_minor": 2
}
